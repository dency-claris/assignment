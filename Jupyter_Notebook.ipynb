{
 "cells": [
  {
   "cell_type": "markdown",
   "metadata": {},
   "source": [
    "<center>\n",
    "    <img src=\"https://s3-api.us-geo.objectstorage.softlayer.net/cf-courses-data/CognitiveClass/Logos/organization_logo/organization_logo.png\" width=\"300\" alt=\"cognitiveclass.ai logo\"  />\n",
    "</center>\n"
   ]
  },
  {
   "cell_type": "markdown",
   "metadata": {},
   "source": [
    "#### Add your code below following the instructions given in the course\n"
   ]
  },
  {
   "cell_type": "markdown",
   "metadata": {},
   "source": [
    "# My Jupyter Notebook on IBM Watson Studio"
   ]
  },
  {
   "cell_type": "markdown",
   "metadata": {},
   "source": [
    "**Dency Claris Thomas** \n",
    "\n",
    "Data Scientist"
   ]
  },
  {
   "cell_type": "markdown",
   "metadata": {},
   "source": [
    "*I am interested in data science as I love the idea of working and playing with data. I'm looking forward to work as a data scientist and thus trying to earn some skills using this course offered by IBM*"
   ]
  },
  {
   "cell_type": "markdown",
   "metadata": {},
   "source": [
    "### My code is going to calculate the total pay of a person who enters their weekly hours worked and their hourly pay, it is also going to calculate the extra income for the hours worked more than 40 and will add that to the weekly pay, and print weekly pay"
   ]
  },
  {
   "cell_type": "code",
   "execution_count": 1,
   "metadata": {},
   "outputs": [
    {
     "name": "stdin",
     "output_type": "stream",
     "text": [
      "Enter weekly hours:  45\n",
      "Enter hourly rate:  10\n"
     ]
    },
    {
     "name": "stdout",
     "output_type": "stream",
     "text": [
      "Pay  475.0\n"
     ]
    }
   ],
   "source": [
    "hours=input('Enter weekly hours: ')\n",
    "xh=float(hours)\n",
    "rate=input('Enter hourly rate: ')\n",
    "xr=float(rate)\n",
    "if(xh<=40):\n",
    "    pay=xh*xr\n",
    "    print('Pay ', pay)\n",
    "else:\n",
    "    pay=((xh-40)*xr*1.5)+(40*xr)\n",
    "    print('Pay ', pay)"
   ]
  },
  {
   "cell_type": "markdown",
   "metadata": {},
   "source": [
    "***\n",
    "Horizontal Rule\n",
    "\n",
    "***\n",
    "<a href=\"https://www.google.co.in/\">hyperlinked google</a>\n",
    "\n",
    "![Markdown Logo is here.](https://www.fullstackpython.com/img/logos/markdown.png)\n",
    "\n",
    "* This is a bullet point\n",
    "* This is another bullet point\n",
    "\n",
    "`Highlight code`\n",
    "1. This is numbered list\n",
    "2. This is also numbered list"
   ]
  },
  {
   "cell_type": "code",
   "execution_count": null,
   "metadata": {},
   "outputs": [],
   "source": []
  }
 ],
 "metadata": {
  "kernelspec": {
   "display_name": "Python",
   "language": "python",
   "name": "conda-env-python-py"
  },
  "language_info": {
   "codemirror_mode": {
    "name": "ipython",
    "version": 3
   },
   "file_extension": ".py",
   "mimetype": "text/x-python",
   "name": "python",
   "nbconvert_exporter": "python",
   "pygments_lexer": "ipython3",
   "version": "3.7.12"
  }
 },
 "nbformat": 4,
 "nbformat_minor": 4
}
